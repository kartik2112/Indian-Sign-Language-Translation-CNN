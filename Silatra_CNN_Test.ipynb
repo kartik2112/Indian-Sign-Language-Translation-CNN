{
 "cells": [
  {
   "cell_type": "markdown",
   "metadata": {},
   "source": [
    "# Silatra CNN Model Testing\n",
    "\n",
    "The model was trained using Kaggle Kernel. In this seperate notebook I am just testing the results of this trained model on an unseen test dataset.\n",
    "\n",
    "This indicated an accuracy of 98.14 %\n",
    "\n",
    "Note: The model was trained using TF 2.2 on Kaggle. However, on my local machine, I am using TF 1.15."
   ]
  },
  {
   "cell_type": "code",
   "execution_count": 23,
   "metadata": {},
   "outputs": [],
   "source": [
    "import tensorflow as tf\n",
    "import keras\n",
    "import os\n",
    "import shutil\n",
    "from tqdm import tqdm\n",
    "import numpy as np\n",
    "import cv2\n",
    "from tensorflow.keras.models import load_model\n",
    "from sklearn.metrics import confusion_matrix\n",
    "import seaborn as sns\n",
    "from sklearn.preprocessing import OneHotEncoder\n",
    "import matplotlib.pyplot as plt\n",
    "from tensorflow.keras.preprocessing.image import ImageDataGenerator\n",
    "\n",
    "%matplotlib inline"
   ]
  },
  {
   "cell_type": "code",
   "execution_count": 24,
   "metadata": {},
   "outputs": [],
   "source": [
    "img_path = 'input/indian-sign-language-translation-letters-n-digits/'\n",
    "\n",
    "for class1 in os.listdir(img_path):\n",
    "    num_images = len(os.listdir(os.path.join(img_path,class1)))\n",
    "    for (n,filename) in enumerate(os.listdir(os.path.join(img_path,class1))):\n",
    "        img = os.path.join(img_path,class1,filename)\n",
    "        if not os.path.exists('test/'+class1+'/'):\n",
    "            os.makedirs('test/'+class1+'/')\n",
    "            os.makedirs('train/'+class1+'/')\n",
    "            os.makedirs('val/'+class1+'/')\n",
    "        if n < int(0.1 * num_images):\n",
    "            shutil.copy(img,'test/'+class1+'/'+filename)\n",
    "        elif n < int(0.8 * num_images):\n",
    "            shutil.copy(img,'train/'+class1+'/'+filename)\n",
    "        else:\n",
    "            shutil.copy(img,'val/'+class1+'/'+filename)"
   ]
  },
  {
   "cell_type": "code",
   "execution_count": 25,
   "metadata": {},
   "outputs": [],
   "source": [
    "def load_data(image_dir):\n",
    "    images = []\n",
    "    y = []\n",
    "    classNum = 0\n",
    "    for class1 in tqdm(sorted(os.listdir(image_dir))):\n",
    "        for file_name in os.listdir(os.path.join(image_dir,class1)):\n",
    "            images.append(cv2.resize(cv2.cvtColor(cv2.imread(os.path.join(image_dir,class1,file_name)),cv2.COLOR_BGR2RGB),(224,224)))\n",
    "            y.append(classNum)\n",
    "        classNum += 1\n",
    "    print(f'Loaded {len(images)} images from {image_dir} directory')\n",
    "    images = np.array(images)\n",
    "    y = np.array(y)\n",
    "    return images,y"
   ]
  },
  {
   "cell_type": "code",
   "execution_count": 26,
   "metadata": {},
   "outputs": [
    {
     "name": "stderr",
     "output_type": "stream",
     "text": [
      "100%|██████████| 33/33 [00:04<00:00,  8.13it/s]\n"
     ]
    },
    {
     "name": "stdout",
     "output_type": "stream",
     "text": [
      "Loaded 1074 images from test/ directory\n"
     ]
    }
   ],
   "source": [
    "test_images,test_labels = load_data('test/')"
   ]
  },
  {
   "cell_type": "code",
   "execution_count": 27,
   "metadata": {},
   "outputs": [],
   "source": [
    "model = load_model('Silatra_HandPoses_CNN_27May20.h5')"
   ]
  },
  {
   "cell_type": "code",
   "execution_count": 28,
   "metadata": {},
   "outputs": [],
   "source": [
    "preds = model.predict(test_images).argmax(axis=1)"
   ]
  },
  {
   "cell_type": "code",
   "execution_count": 29,
   "metadata": {},
   "outputs": [
    {
     "data": {
      "text/plain": [
       "((1074,), (1074,))"
      ]
     },
     "execution_count": 29,
     "metadata": {},
     "output_type": "execute_result"
    }
   ],
   "source": [
    "test_labels.shape,preds.shape"
   ]
  },
  {
   "cell_type": "code",
   "execution_count": 30,
   "metadata": {},
   "outputs": [
    {
     "name": "stdout",
     "output_type": "stream",
     "text": [
      "1074/1074 [==============================] - 10s 10ms/sample - loss: 12.6313 - acc: 0.9814\n"
     ]
    },
    {
     "data": {
      "text/plain": [
       "[12.63131963918107, 0.981378]"
      ]
     },
     "execution_count": 30,
     "metadata": {},
     "output_type": "execute_result"
    }
   ],
   "source": [
    "model.evaluate(test_images,OneHotEncoder().fit_transform(test_labels.reshape(-1, 1)))"
   ]
  },
  {
   "cell_type": "code",
   "execution_count": 31,
   "metadata": {},
   "outputs": [
    {
     "data": {
      "text/plain": [
       "<matplotlib.axes._subplots.AxesSubplot at 0x7fcfa74def28>"
      ]
     },
     "execution_count": 31,
     "metadata": {},
     "output_type": "execute_result"
    },
    {
     "data": {
      "image/png": "[encoded data removed]",
      "text/plain": [
       "<Figure size 432x288 with 2 Axes>"
      ]
     },
     "metadata": {
      "needs_background": "light"
     },
     "output_type": "display_data"
    }
   ],
   "source": [
    "sns.heatmap(confusion_matrix(test_labels,preds))"
   ]
  },
  {
   "cell_type": "code",
   "execution_count": null,
   "metadata": {},
   "outputs": [],
   "source": []
  },
  {
   "cell_type": "code",
   "execution_count": null,
   "metadata": {},
   "outputs": [],
   "source": []
  },
  {
   "cell_type": "code",
   "execution_count": null,
   "metadata": {},
   "outputs": [],
   "source": []
  }
 ],
 "metadata": {
  "kernelspec": {
   "display_name": "cv",
   "language": "python",
   "name": "cv"
  },
  "language_info": {
   "codemirror_mode": {
    "name": "ipython",
    "version": 3
   },
   "file_extension": ".py",
   "mimetype": "text/x-python",
   "name": "python",
   "nbconvert_exporter": "python",
   "pygments_lexer": "ipython3",
   "version": "3.6.9"
  }
 },
 "nbformat": 4,
 "nbformat_minor": 2
}
